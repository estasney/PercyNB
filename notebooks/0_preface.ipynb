{
 "cells": [
  {
   "cell_type": "markdown",
   "source": [
    "# Preface\n"
   ],
   "metadata": {
    "collapsed": false
   }
  },
  {
   "cell_type": "markdown",
   "source": [
    "## What is Diversity Analysis?\n",
    "In order to achieve the stated goal of a diverse work environment, we need to be able to produce quantifiable measures of diversity. The challenge is that indicators of diversity such as national origin, veteran status, gender, etc. are sensitive and not reported in available datasets.\n",
    "\n",
    "However, for any population that we wish to analyze we will always have, at a minimum a First and Last name.\n",
    "\n",
    "In most cultures, there exist 'masculine' and 'feminine' names. However, there is no universal law that requires this. The result is that some names are strong predictors of sex such:\n",
    "\n",
    "- Elizabeth\n",
    "- Sarah\n",
    "- John\n",
    "- James\n",
    "\n",
    "While others such as :\n",
    "\n",
    "- Casey\n",
    "- Jessie\n",
    "- Jordan\n",
    "- Pat\n",
    "\n",
    "are not strong predictors.               \n"
   ],
   "metadata": {
    "collapsed": false
   }
  },
  {
   "cell_type": "markdown",
   "source": [
    "## Names as Predictors\n",
    "\n",
    "Based on our own experiences we are likely to agree with the above names and their respective assignments. If our goal is to provide a quantifiable measure, we need some method to determine this.\n",
    "\n",
    "Let's examine two popular approaches \n",
    "   "
   ],
   "metadata": {
    "collapsed": false
   }
  },
  {
   "cell_type": "markdown",
   "source": [
    "### Categorical\n",
    "\n",
    "The categorical approach assigns names to categories based on their tendency to predict a sex. For instance we may see:\n",
    "\n",
    "- Male : John, James, Jordan\n",
    "- Female : Sarah, Elizabeth, Casey, Jessie\n",
    "\n",
    "- Strongly Male: John, James\n",
    "- Weakly Male: Jordan\n",
    "- Ambiguous: Pat \n",
    "- Strongly Female: Elizabeth, Sarah\n",
    "- Weakly Female: Jessie\n",
    "\n",
    "### Probabilistic\n",
    "\n",
    "The probabilistic approach assigns discrete probabilities of sex for each name. We may see:\n",
    "\n",
    "- John: 0.05% Female\n",
    "- Sarah: 99.5% Female\n",
    "- Jordan: 26.0% Female\n",
    "- Jessie: 60.2% Female\n",
    "\n",
    "Percy's diversity analysis is based on probabilistic data. The reasoning will become apparent later. "
   ],
   "metadata": {
    "collapsed": false,
    "pycharm": {
     "name": "#%% md\n"
    }
   }
  }
 ],
 "metadata": {
  "language_info": {
   "codemirror_mode": {
    "name": "ipython",
    "version": 2
   },
   "file_extension": ".py",
   "mimetype": "text/x-python",
   "name": "python",
   "nbconvert_exporter": "python",
   "pygments_lexer": "ipython2",
   "version": "2.7.6"
  },
  "kernelspec": {
   "name": "python3",
   "language": "python",
   "display_name": "Python 3"
  },
  "pycharm": {
   "stem_cell": {
    "cell_type": "raw",
    "source": [],
    "metadata": {
     "collapsed": false
    }
   }
  }
 },
 "nbformat": 4,
 "nbformat_minor": 0
}