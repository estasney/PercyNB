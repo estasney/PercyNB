{
    "cells": [
        {
            "cell_type": "markdown",
            "metadata": {},
            "source": [
                "# Monte Carlo Method\n",
                "### Why?\n",
                "Recall from the previous Notebook we ended with asking why we bother running simulations that approach the mean.\n",
                "\n",
                "What we want to do is advise on *all* outcomes as well as their likelihood. Calculating this when analyzing multiple names with varying degrees of certainty would quickly become complicated. Additionally we would only be able to provide a single-point estimate along with a confidence interval.\n",
                "\n",
                "### Implementation"
            ]
        },
        {
            "cell_type": "code",
            "execution_count": 1,
            "metadata": {
                "pycharm": {
                    "is_executing": false
                }
            },
            "outputs": [],
            "source": [
                "import numpy as np\n",
                "from scipy import stats\n",
                "with open('data/beta_params.npy', \"rb\") as fp:\n",
                "    beta_params = np.load(fp)\n",
                "\n",
                "def make_beta_distribution(count, prior):\n",
                "    if prior:\n",
                "        a, b = get_beta_params(*prior)\n",
                "    else:\n",
                "        a, b= 1, 1\n",
                "        \n",
                "    n_male, n_female = count\n",
                "    a += n_female\n",
                "    b += n_male\n",
                "    return stats.beta(a, b)\n",
                "        \n",
                "def get_beta_params(x, y):\n",
                "    ci_array = np.asarray(beta_params[:, 2:])\n",
                "    val_array = np.array([x, y]).reshape(1, 2)\n",
                "    idx_2d = np.abs(ci_array - val_array)\n",
                "    # sum the differences\n",
                "    idx = idx_2d.sum(axis=1)\n",
                "    alpha, beta, ci_95_min, ci_95_max = beta_params[idx.argmin()]\n",
                "    return alpha, beta\n",
                "        \n",
                "\n",
                "def make_name_simulation(prob_interval, n_trials):\n",
                "    \n",
                "    prob_min, prob_max = prob_interval\n",
                "    min_result = np.random.binomial(1, prob_min, size=n_trials // 2)\n",
                "    max_result = np.random.binomial(1, prob_max, size=n_trials // 2)\n",
                "    results = np.concatenate([min_result, max_result])\n",
                "    np.random.shuffle(results)\n",
                "    return results\n",
                "\n",
                "def simulate(count, prior, n_trials):\n",
                "    beta_dist = make_beta_distribution(count, prior)\n",
                "    prob_int = beta_dist.interval(0.95)\n",
                "    result = make_name_simulation(prob_int, n_trials)\n",
                "    return result\n",
                "\n",
                "def simulate_many(counts, prior=None, n_trials=50000):\n",
                "    outcomes = []\n",
                "    for count in counts:\n",
                "        outcomes.append(simulate(count, prior, n_trials))\n",
                "        \n",
                "    # make large array where each column represents 1 trial and 1 row represents one name_count\n",
                "    return np.vstack(outcomes)\n",
                "\n"
            ]
        },
        {
            "cell_type": "markdown",
            "source": [
                "Below we run several potential scenarios"
            ],
            "metadata": {
                "collapsed": false,
                "pycharm": {
                    "name": "#%% md\n"
                }
            }
        },
        {
            "cell_type": "code",
            "execution_count": 2,
            "metadata": {
                "pycharm": {
                    "is_executing": false,
                    "name": "#%%\n"
                }
            },
            "outputs": [
                {
                    "data": {
                        "text/plain": "<Figure size 432x288 with 1 Axes>",
                        "image/png": "[encoded data removed]"
                    },
                    "metadata": {},
                    "output_type": "display_data"
                },
                {
                    "data": {
                        "text/plain": "<Figure size 432x288 with 1 Axes>",
                        "image/png": "[encoded data removed]"
                    },
                    "metadata": {},
                    "output_type": "display_data"
                },
                {
                    "data": {
                        "text/plain": "<Figure size 432x288 with 1 Axes>",
                        "image/png": "[encoded data removed]"
                    },
                    "metadata": {},
                    "output_type": "display_data"
                },
                {
                    "data": {
                        "text/plain": "<Figure size 432x288 with 1 Axes>",
                        "image/png": "[encoded data removed]"
                    },
                    "metadata": {},
                    "output_type": "display_data"
                }
            ],
            "source": [
                "import matplotlib.pyplot as plt\n",
                "plt.ion()\n",
                "import seaborn as sns\n",
                "plt.style.use('seaborn-darkgrid')\n",
                "from itertools import product\n",
                "\n",
                "name_counts = [(5, 0),\n",
                "               (700000, 4000),\n",
                "               (1200, 480000),\n",
                "               (1, 18),\n",
                "               (1, 2)]\n",
                "\n",
                "priors = [None, (0.25, 0.75), (0.8, 0.9), (0.1, 0.5)]\n",
                "\n",
                "for x, y in product([name_counts], priors):\n",
                "    r = simulate_many(counts=x, prior=y)\n",
                "    plt.figure()\n",
                "    plt.hist(r.mean(axis=0))\n",
                "    if not y:\n",
                "        plt.title(\"Uninformative Prior\")\n",
                "    else:\n",
                "        plt.title(\"Prior CI {} - {}\".format(*y))\n",
                "    plt.show()\n",
                "    "
            ]
        },
        {
            "cell_type": "markdown",
            "source": [
                "### Unknown Names\n",
                "\n",
                "As we know, there is an incredible diversity of first names. When analyzing a name set we are likely to encounter situations where we do not have records for some of these names.\n",
                "\n",
                "Rather than exclude these from analysis, we simply pass a count of (0, 0) to summarize. The result is that for an unknown prior, these names are equally likely to return male or female.\n",
                "When a prior is known, the likelihood is a reflection of the prior.  \n",
                "\n",
                " \n"
            ],
            "metadata": {
                "collapsed": false,
                "pycharm": {
                    "name": "#%% md\n"
                }
            }
        },
        {
            "cell_type": "code",
            "execution_count": 3,
            "outputs": [],
            "source": [
                "# helper function to generate a large, random name set\n",
                "def make_random_count():\n",
                "    total_count = np.random.randint(1, 100000)\n",
                "    prob = np.random.choice([np.random.beta(30, 5), np.random.beta(5, 30)])\n",
                "    n_female = np.random.binomial(total_count, prob, 1)\n",
                "    n_male = total_count - n_female\n",
                "    return n_male[0], n_female[0]\n",
                "\n",
                "# helper function to introduce unknown records into a name set at a given rate\n",
                "def add_unknowns(names, r_unknown):\n",
                "    if r_unknown <= 0:\n",
                "        return names\n",
                "    n_unknown = int(len(names) * r_unknown)\n",
                "    unknowns = [(0, 0) for i in range(n_unknown)]\n",
                "    names.extend(unknowns)\n",
                "    np.random.shuffle(names)\n",
                "    return names\n"
            ],
            "metadata": {
                "collapsed": false,
                "pycharm": {
                    "name": "#%%\n",
                    "is_executing": false
                }
            }
        },
        {
            "cell_type": "code",
            "execution_count": 4,
            "outputs": [
                {
                    "data": {
                        "text/plain": "60"
                    },
                    "metadata": {},
                    "output_type": "execute_result",
                    "execution_count": 42
                }
            ],
            "source": [
                "\n",
                "n_records = [100, 250, 1000]\n",
                "r_unknowns = [0, 0.05, 0.1, 0.5]\n",
                "priors = [None, (0.4, 0.6)]\n",
                "\n",
                "params = list(product(n_records, r_unknowns, priors))\n",
                "random_names = [make_random_count() for i in range(10000)]\n",
                "\n",
                "\n",
                "hist_results = []\n",
                "for i, (sample_size, ratio_unknown, pop_prior) in enumerate(params):\n",
                "    \n",
                "    sample_names = random_names[:sample_size]\n",
                "    sample_names = add_unknowns(sample_names, ratio_unknown)\n",
                "    \n",
                "    results = simulate_many(sample_names, prior=pop_prior, n_trials=10000).mean(axis=0)\n",
                "    hist_results.append(results)\n"
            ],
            "metadata": {
                "collapsed": false,
                "pycharm": {
                    "name": "#%%\n",
                    "is_executing": false
                }
            }
        },
        {
            "cell_type": "code",
            "execution_count": 5,
            "outputs": [],
            "source": [
                "\n",
                "y_max = np.array([np.histogram(r)[0].max() for r in hist_results]).max()\n",
                "x_min = np.array([np.histogram(r)[1].min() for r in hist_results]).min()\n",
                "x_max = np.array([np.histogram(r)[1].max() for r in hist_results]).max()\n",
                "\n",
                "def plot_hist(i, hist_results, params, *args):\n",
                "    plt.cla()\n",
                "    plt.xlim(x_min, x_max)\n",
                "    plt.ylim(0, y_max)\n",
                "    p = params[i]\n",
                "    prior_text = \"None\" if not p[-1] else \"{} - {}\".format(*p[-1])\n",
                "    plt.title(\"Size : {}, R_Unknown : {}, Prior : {}\".format(p[0], p[1], prior_text))\n",
                "    h = plt.hist(hist_results[i])\n",
                "    return h\n",
                "    \n",
                "fig = plt.figure(figsize=(7, 7))\n",
                "plt.xlim(x_min, x_max)\n",
                "plt.ylim(0, y_max)\n",
                "hist = plt.hist(hist_results[0])\n",
                "\n",
                "\n",
                "hist_animation = FuncAnimation(fig, plot_hist, frames=len(hist_results),\n",
                "                                         fargs=(hist_results,params,), interval=1000)"
            ],
            "metadata": {
                "collapsed": false,
                "pycharm": {
                    "name": "#%%\n"
                }
            }
        },
        {
            "cell_type": "markdown",
            "source": [
                "![Samples](https://raw.githubusercontent.com/estasney/Percy/master/mysite/notebooks/data/samples.gif)"
            ],
            "metadata": {
                "collapsed": false,
                "pycharm": {
                    "name": "#%% md\n"
                }
            }
        }
    ],
    "metadata": {
        "kernelspec": {
            "display_name": "Python 3",
            "language": "python",
            "name": "python3"
        },
        "language_info": {
            "codemirror_mode": {
                "name": "ipython",
                "version": 3
            },
            "file_extension": ".py",
            "mimetype": "text/x-python",
            "name": "python",
            "nbconvert_exporter": "python",
            "pygments_lexer": "ipython3",
            "version": "3.7.3"
        },
        "pycharm": {
            "stem_cell": {
                "cell_type": "raw",
                "source": [],
                "metadata": {
                    "collapsed": false
                }
            }
        }
    },
    "nbformat": 4,
    "nbformat_minor": 2
}